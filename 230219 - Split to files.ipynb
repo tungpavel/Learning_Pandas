{
 "cells": [
  {
   "cell_type": "code",
   "execution_count": 1,
   "id": "933c6ce5",
   "metadata": {},
   "outputs": [],
   "source": [
    "import pandas as pd\n",
    "\n",
    "#loading the dataframe\n",
    "df = pd.read_excel(r\"C:\\Users\\Levap\\Desktop\\Python\\Split to files\\221123 Split supplier requests into seperate files.xlsm\")\n",
    "\n",
    "#Looping through each supplier and creating a new file with the Supplier in the file name\n",
    "for supplier in df['Supplier Name']:\n",
    "    df1 = df.loc[(df['Supplier Name'] == supplier)][['Supplier Name','Product Code','Product Description']]\n",
    "    df1.to_excel(f'C:/Users/Levap/Desktop/Python/Split to files/Output/{supplier}.xlsx',index=False) # removing index column"
   ]
  },
  {
   "cell_type": "code",
   "execution_count": null,
   "id": "1218006f",
   "metadata": {},
   "outputs": [],
   "source": [
    "#Toolstream = df.loc[(df['Supplier Name'] == 'Toolstream')][['Supplier Name','Product Code','Product Description']]\n",
    "#only Toolstream\n",
    "\n",
    "#for supplier in df['Supplier Name']:\n",
    "    #df = df.loc[(df['Supplier Name'] == supplier)][['Supplier Name','Product Code']]\n",
    "    #supplier = df.loc[(df['Supplier Name'] == supplier)][['Supplier Name','Product Code']]\n",
    "    #print(supplier)\n",
    "    #df.to_csv(f'{supplier}.csv')   \n",
    "\n",
    "# files are empty"
   ]
  }
 ],
 "metadata": {
  "kernelspec": {
   "display_name": "Python 3 (ipykernel)",
   "language": "python",
   "name": "python3"
  },
  "language_info": {
   "codemirror_mode": {
    "name": "ipython",
    "version": 3
   },
   "file_extension": ".py",
   "mimetype": "text/x-python",
   "name": "python",
   "nbconvert_exporter": "python",
   "pygments_lexer": "ipython3",
   "version": "3.9.13"
  }
 },
 "nbformat": 4,
 "nbformat_minor": 5
}
